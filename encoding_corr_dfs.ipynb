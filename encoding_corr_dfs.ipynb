{
 "cells": [
  {
   "cell_type": "code",
   "execution_count": 1,
   "metadata": {},
   "outputs": [
    {
     "name": "stderr",
     "output_type": "stream",
     "text": [
      "/opt/anaconda3/envs/glm_pri/lib/python3.7/site-packages/nilearn/__init__.py:69: FutureWarning: Python 3.7 support is deprecated and will be removed in release 0.12 of Nilearn. Consider switching to Python 3.9 or 3.10.\n",
      "  _python_deprecation_warnings()\n"
     ]
    },
    {
     "data": {
      "application/javascript": "IPython.notebook.set_autosave_interval(15000)"
     },
     "metadata": {},
     "output_type": "display_data"
    },
    {
     "name": "stdout",
     "output_type": "stream",
     "text": [
      "Autosaving every 15 seconds\n"
     ]
    }
   ],
   "source": [
    "##importing packages\n",
    "import nilearn as nil \n",
    "import pandas as pd \n",
    "import numpy as np \n",
    "import seaborn as sns \n",
    "import scipy.stats \n",
    "import nibabel as nib \n",
    "import os \n",
    "%autosave 15 "
   ]
  },
  {
   "cell_type": "code",
   "execution_count": null,
   "metadata": {},
   "outputs": [],
   "source": [
    "import pandas as pd\n",
    "import numpy as np\n",
    "import os\n",
    "\n",
    "# Loop through subjects '02' to '30'\n",
    "for subject_num in range(2, 31):\n",
    "    participant_str = f'{subject_num:02}'  # Format subject number with leading zero if needed\n",
    "\n",
    "    # Loop through runs '01' and '02'\n",
    "    for run in ['01', '02']:\n",
    "        # Loop through the specified regions\n",
    "        for region in ['ppa']:\n",
    "            # Adjust the filename based on the region\n",
    "            if region == 'ppa':\n",
    "                input_path = f'/data/Kathryn/Projects/Priority/derivatives/rsa_dfs/ppa/sub-{participant_str}/LSS_voxXtrial_php_sub-{participant_str}_run-{run}.csv'\n",
    "            else:\n",
    "                input_path = f'/data/Kathryn/Projects/Priority/derivatives/rsa_dfs/{region}/sub-{participant_str}/LSS_voxXtrial_{region}_sub-{participant_str}_run-{run}.csv'\n",
    "\n",
    "            df1 = pd.read_csv(input_path)\n",
    "\n",
    "            # Drop any unnecessary columns, such as 'Unnamed: 0'\n",
    "            if 'Unnamed: 0' in df1.columns:\n",
    "                df1 = df1.drop(columns=['Unnamed: 0'])\n",
    "\n",
    "            # Make sure that df1 contains exactly 54 columns\n",
    "            if df1.shape[1] != 54:\n",
    "                raise ValueError(f\"Expected 54 columns for {input_path}, but found {df1.shape[1]} columns\")\n",
    "\n",
    "            # Convert to numeric, ignoring errors\n",
    "            df1 = df1.apply(pd.to_numeric, errors='coerce')\n",
    "\n",
    "            # Compute the correlation matrix for the trial by trial section\n",
    "            correlation_matrix_trial_by_trial = df1.corr()\n",
    "\n",
    "            # Set column and row names according to your desired pattern\n",
    "            correlation_matrix_trial_by_trial.columns = [f'Trial_{i:02}' for i in range(1, 55)]\n",
    "            correlation_matrix_trial_by_trial.index = [f'Trial_{i:02}' for i in range(1, 55)]\n",
    "\n",
    "            # Define output folder and file name\n",
    "            output_folder = f'/data/Kathryn/Projects/Priority/derivatives/rsa_dfs/{region}/sub-{participant_str}/{region}_corr'\n",
    "            os.makedirs(output_folder, exist_ok=True)\n",
    "            output_filename = os.path.join(output_folder, f'corr_matrix_{region}_Trial_by_Trial_Run-{run}.csv')\n",
    "\n",
    "            # Save correlation matrix as a CSV file with row names and column names\n",
    "            correlation_matrix_trial_by_trial.to_csv(output_filename, index=True, header=True)\n",
    "\n",
    "            print(f\"Correlation matrix saved for Subject {participant_str}, Run {run}, Region {region}\")\n",
    "\n",
    "\n"
   ]
  },
  {
   "cell_type": "code",
   "execution_count": null,
   "metadata": {},
   "outputs": [],
   "source": []
  }
 ],
 "metadata": {
  "kernelspec": {
   "display_name": "glm_pri",
   "language": "python",
   "name": "python3"
  },
  "language_info": {
   "codemirror_mode": {
    "name": "ipython",
    "version": 3
   },
   "file_extension": ".py",
   "mimetype": "text/x-python",
   "name": "python",
   "nbconvert_exporter": "python",
   "pygments_lexer": "ipython3",
   "version": "3.7.16"
  },
  "orig_nbformat": 4
 },
 "nbformat": 4,
 "nbformat_minor": 2
}
