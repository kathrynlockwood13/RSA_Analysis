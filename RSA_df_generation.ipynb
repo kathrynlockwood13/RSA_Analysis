{
 "cells": [
  {
   "cell_type": "code",
   "execution_count": 1,
   "metadata": {},
   "outputs": [
    {
     "name": "stderr",
     "output_type": "stream",
     "text": [
      "/opt/anaconda3/envs/glm_pri/lib/python3.7/site-packages/nilearn/__init__.py:69: FutureWarning: Python 3.7 support is deprecated and will be removed in release 0.12 of Nilearn. Consider switching to Python 3.9 or 3.10.\n",
      "  _python_deprecation_warnings()\n"
     ]
    },
    {
     "data": {
      "application/javascript": "IPython.notebook.set_autosave_interval(15000)"
     },
     "metadata": {},
     "output_type": "display_data"
    },
    {
     "name": "stdout",
     "output_type": "stream",
     "text": [
      "Autosaving every 15 seconds\n"
     ]
    }
   ],
   "source": [
    "import nilearn as nil \n",
    "import pandas as pd \n",
    "import numpy as np \n",
    "import seaborn as sns \n",
    "import scipy.stats \n",
    "import nibabel as nib \n",
    "import os \n",
    "%autosave 15  "
   ]
  },
  {
   "cell_type": "code",
   "execution_count": 2,
   "metadata": {},
   "outputs": [],
   "source": [
    "#data paths and subject list \n",
    "data_path = '/data/Wangjing/projects/priority/derivatives/LSS/ses-02_task-learning/outputs_moreclean'\n",
    "roi_path_base = '/data/Wangjing/projects/priority/derivatives/ROIs'\n",
    "sub_list = [\"%02d\" % x for x in range(2, 31)]\n",
    "runs = [\"%02d\" % x for x in range(1, 3)]\n",
    "trials = [\"%02d\" % x for x in range(1, 55)]"
   ]
  },
  {
   "cell_type": "code",
   "execution_count": 2,
   "metadata": {},
   "outputs": [],
   "source": [
    "#creating csv files for trial by voxel for run 1 and 2 mpfc \n",
    "import os\n",
    "import nibabel as nib\n",
    "import numpy as np\n",
    "import pandas as pd\n",
    "\n",
    "data_path = '/data/Wangjing/projects/priority/derivatives/LSS/ses-02_task-learning/outputs_moreclean'\n",
    "roi_path_base = '/data/Wangjing/projects/priority/derivatives/ROIs'\n",
    "sub_list = [\"%02d\" % x for x in range(2, 31)]  # For all subjects\n",
    "runs = [\"01\", \"02\"]\n",
    "trials = [\"%02d\" % x for x in range(1, 55)]\n",
    "\n",
    "for sub_id in sub_list:\n",
    "    for run in runs:\n",
    "        all_voxels = []\n",
    "\n",
    "        for trial in trials:\n",
    "            voxel_values = []\n",
    "\n",
    "            image_path = os.path.join(data_path, \"sub-%s/run-%s/t-%s/cope1.nii.gz\" % (sub_id, run, trial))\n",
    "            roi_path = os.path.join(roi_path_base, \"sub-%s/Schaefer/2mm/mpfc_all.nii.gz\" % sub_id)\n",
    "            image = nib.load(image_path)\n",
    "            roi_image = nib.load(roi_path)\n",
    "\n",
    "            data = image.get_fdata()\n",
    "            roi_data = roi_image.get_fdata()\n",
    "\n",
    "            mask = np.where(roi_data == 1)\n",
    "            roi_voxels = data[mask].flatten()  # Flattening voxel data into 1D\n",
    "\n",
    "            voxel_values.extend(roi_voxels)\n",
    "\n",
    "            all_voxels.append(voxel_values)\n",
    "\n",
    "        df = pd.DataFrame(all_voxels).transpose()  # Transpose to get voxels as rows\n",
    "        df.columns = ['trial_%s' % t for t in trials]  # Rename columns\n",
    "        df.index = ['voxel_%d' % (i+1) for i in range(df.shape[0])]  # Adding index names\n",
    "\n",
    "        # Ensure the directory exists\n",
    "        output_dir = f'/data/Kathryn/Projects/Priority/derivatives/rsa_dfs/mpfc/sub-{sub_id}'\n",
    "        os.makedirs(output_dir, exist_ok=True)\n",
    "\n",
    "        # Save DataFrame to the specified path for each run\n",
    "        output_path = os.path.join(output_dir, f'LSS_voxXtrial_mpfc_sub-{sub_id}_run-{run}.csv')\n",
    "        df.to_csv(output_path)"
   ]
  },
  {
   "cell_type": "code",
   "execution_count": 4,
   "metadata": {},
   "outputs": [],
   "source": [
    "##extracting voxel and TR data from rest \n",
    "import os\n",
    "import nibabel as nib\n",
    "import numpy as np\n",
    "import pandas as pd\n",
    "\n",
    "data_path = '/data/Wangjing/projects/priority/derivatives/classification'\n",
    "roi_path_base = '/data/Wangjing/projects/priority/derivatives/ROIs'\n",
    "\n",
    "# Adjust this list to include identifiers for all subjects\n",
    "sub_list = [\"%02d\" % x for x in range(2, 31)]  # Subject 02\n",
    "\n",
    "all_voxels = {}\n",
    "\n",
    "for sub_id in sub_list:\n",
    "    for run_id in [\"01\", \"02\", \"03\"]:\n",
    "        image_path = os.path.join(data_path, f\"sub-{sub_id}/ses-02/task-rest/cleaned_img/cleaned_task-rest_run-{run_id}.nii.gz\")  # 4D fMRI data\n",
    "        roi_path = os.path.join(roi_path_base, f\"sub-{sub_id}/Schaefer/2mm/mpfc_all.nii.gz\")  # 3D ROI\n",
    "        image = nib.load(image_path)\n",
    "        roi_image = nib.load(roi_path)\n",
    "\n",
    "        data = image.get_fdata()\n",
    "        roi_data = roi_image.get_fdata()\n",
    "\n",
    "        mask = np.where(roi_data == 1)\n",
    "\n",
    "        voxel_list = []\n",
    "        for t in range(data.shape[-1]):  # For each TR\n",
    "            roi_voxels = data[..., t][mask]  # Extracting voxel values at the current TR\n",
    "            voxel_list.append(roi_voxels)\n",
    "        all_voxels[(sub_id, run_id)] = voxel_list\n",
    "\n",
    "# Output each subject's voxel data as separate CSVs\n",
    "for (sub_id, run_id), voxels in all_voxels.items():\n",
    "    df = pd.DataFrame(voxels).transpose()  # Transpose dataframe\n",
    "    df.columns = ['TR_%d' % (i+1) for i in range(df.shape[1])]  # Adding column names\n",
    "    df.index = ['voxel_%d' % (i+1) for i in range(df.shape[0])]  # Adding index names\n",
    "\n",
    "    output_dir = f'/data/Kathryn/Projects/Priority/derivatives/rsa_dfs/mpfc/sub-{sub_id}'\n",
    "    os.makedirs(output_dir, exist_ok=True)\n",
    "\n",
    "    output_path = os.path.join(output_dir, f'LSS_voxXTR_mpfc_sub-{sub_id}_run-{run_id}_day2.csv')\n",
    "    df.to_csv(output_path)"
   ]
  },
  {
   "cell_type": "code",
   "execution_count": 5,
   "metadata": {},
   "outputs": [],
   "source": [
    "##extracting voxel and TR data from rest \n",
    "import os\n",
    "import nibabel as nib\n",
    "import numpy as np\n",
    "import pandas as pd\n",
    "\n",
    "data_path = '/data/Wangjing/projects/priority/derivatives/classification'\n",
    "roi_path_base = '/data/Wangjing/projects/priority/derivatives/ROIs'\n",
    "\n",
    "# Adjust this list to include identifiers for all subjects\n",
    "sub_list = [\"%02d\" % x for x in range(2, 31)]  # Subject 02\n",
    "\n",
    "all_voxels = {}\n",
    "\n",
    "for sub_id in sub_list:\n",
    "    for run_id in [\"01\"]:\n",
    "        image_path = os.path.join(data_path, f\"sub-{sub_id}/ses-01/task-rest/cleaned_img/cleaned_task-rest_run-{run_id}.nii.gz\")  # 4D fMRI data\n",
    "        roi_path = os.path.join(roi_path_base, f\"sub-{sub_id}/Schaefer/2mm/mpfc_all.nii.gz\")  # 3D ROI\n",
    "        image = nib.load(image_path)\n",
    "        roi_image = nib.load(roi_path)\n",
    "\n",
    "        data = image.get_fdata()\n",
    "        roi_data = roi_image.get_fdata()\n",
    "\n",
    "        mask = np.where(roi_data == 1)\n",
    "\n",
    "        voxel_list = []\n",
    "        for t in range(data.shape[-1]):  # For each TR\n",
    "            roi_voxels = data[..., t][mask]  # Extracting voxel values at the current TR\n",
    "            voxel_list.append(roi_voxels)\n",
    "        all_voxels[(sub_id, run_id)] = voxel_list\n",
    "\n",
    "# Output each subject's voxel data as separate CSVs\n",
    "for (sub_id, run_id), voxels in all_voxels.items():\n",
    "    df = pd.DataFrame(voxels).transpose()  # Transpose dataframe\n",
    "    df.columns = ['TR_%d' % (i+1) for i in range(df.shape[1])]  # Adding column names\n",
    "    df.index = ['voxel_%d' % (i+1) for i in range(df.shape[0])]  # Adding index names\n",
    "\n",
    "    output_dir = f'/data/Kathryn/Projects/Priority/derivatives/rsa_dfs/mpfc/sub-{sub_id}'\n",
    "    os.makedirs(output_dir, exist_ok=True)\n",
    "\n",
    "    output_path = os.path.join(output_dir, f'LSS_voxXTR_mpfc_sub-{sub_id}_run-{run_id}_day1.csv')\n",
    "    df.to_csv(output_path)"
   ]
  }
 ],
 "metadata": {
  "kernelspec": {
   "display_name": "glm_pri",
   "language": "python",
   "name": "python3"
  },
  "language_info": {
   "codemirror_mode": {
    "name": "ipython",
    "version": 3
   },
   "file_extension": ".py",
   "mimetype": "text/x-python",
   "name": "python",
   "nbconvert_exporter": "python",
   "pygments_lexer": "ipython3",
   "version": "3.7.16"
  },
  "orig_nbformat": 4
 },
 "nbformat": 4,
 "nbformat_minor": 2
}
